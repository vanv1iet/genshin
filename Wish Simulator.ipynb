{
 "cells": [
  {
   "cell_type": "code",
   "execution_count": 1,
   "id": "53c0055f",
   "metadata": {},
   "outputs": [],
   "source": [
    "import random"
   ]
  },
  {
   "cell_type": "code",
   "execution_count": 2,
   "id": "36bbec86",
   "metadata": {},
   "outputs": [],
   "source": [
    "rate5 = 0.006\n",
    "rate4 = 0.051\n",
    "pity5 = 73\n",
    "pity4 = 8\n",
    "#initiate drop rates"
   ]
  },
  {
   "cell_type": "code",
   "execution_count": 4,
   "id": "e749e51e",
   "metadata": {},
   "outputs": [
    {
     "name": "stdout",
     "output_type": "stream",
     "text": [
      "['5 Star promo', '5 Star standard']\n",
      "['4 Star random', '4 Star random', '4 Star random', '4 Star random', '4 Star random', '4 Star random', '4 Star random', '4 Star random', '4 Star random', '4 Star random', '4 Star random', '4 Star random', '4 Star random', '4 Star random', '4 Star random', '4 Star random', '4 Star random', '4 Star random', '4 Star random', '4 Star random', '4 Star random', '4 Star wanted']\n",
      "['4 Star promo', '4 Star promo', '4 Star wanted']\n"
     ]
    }
   ],
   "source": [
    "_5star_list = ['5 Star promo', '5 Star standard']\n",
    "_4star_generic = 21*['4 Star random'] + ['4 Star wanted']\n",
    "_4star_promo = 2*['4 Star promo'] + ['4 Star wanted']\n",
    "_weapon_list = ['weapon']\n",
    "print(_5star_list)\n",
    "print(_4star_generic)\n",
    "print(_4star_promo)"
   ]
  },
  {
   "cell_type": "code",
   "execution_count": 5,
   "id": "bbe15bdc",
   "metadata": {},
   "outputs": [],
   "source": [
    "def pull(counter_5 = 1, counter_4 = 1):\n",
    "    \n",
    "    prob5 = rate5 + max(0, (counter_5 - pity5)*10*rate5)\n",
    "    prob4 = rate4 + max(0, (counter_4 - pity4)*10*rate4)\n",
    "    \n",
    "    x = random.random()\n",
    "\n",
    "    if x < prob5:\n",
    "        pull = \"5 Star\"\n",
    "\n",
    "    elif x < prob5 + prob4:\n",
    "        pull = \"4 Star\"\n",
    "\n",
    "    else:\n",
    "        pull = \"3 Star\"\n",
    "    \n",
    "    return pull"
   ]
  },
  {
   "cell_type": "code",
   "execution_count": 6,
   "id": "51556521",
   "metadata": {},
   "outputs": [
    {
     "data": {
      "text/plain": [
       "'5 Star'"
      ]
     },
     "execution_count": 6,
     "metadata": {},
     "output_type": "execute_result"
    }
   ],
   "source": [
    "pull(89, 1)"
   ]
  },
  {
   "cell_type": "code",
   "execution_count": 7,
   "id": "43ea6d5c",
   "metadata": {},
   "outputs": [
    {
     "name": "stdout",
     "output_type": "stream",
     "text": [
      "3 Star\n",
      "3 Star\n",
      "3 Star\n",
      "4 Star at pull number 4\n",
      "3 Star\n",
      "3 Star\n",
      "3 Star\n",
      "3 Star\n",
      "3 Star\n",
      "3 Star\n",
      "3 Star\n",
      "3 Star\n",
      "4 Star at pull number 9\n",
      "3 Star\n",
      "3 Star\n",
      "3 Star\n",
      "3 Star\n",
      "3 Star\n",
      "3 Star\n",
      "3 Star\n",
      "3 Star\n",
      "4 Star at pull number 9\n",
      "3 Star\n",
      "3 Star\n",
      "3 Star\n",
      "3 Star\n",
      "3 Star\n",
      "3 Star\n",
      "3 Star\n",
      "3 Star\n",
      "4 Star at pull number 9\n",
      "3 Star\n",
      "3 Star\n",
      "3 Star\n",
      "3 Star\n",
      "3 Star\n",
      "3 Star\n",
      "3 Star\n",
      "3 Star\n",
      "4 Star at pull number 9\n",
      "3 Star\n",
      "3 Star\n",
      "3 Star\n",
      "4 Star at pull number 4\n",
      "3 Star\n",
      "3 Star\n",
      "3 Star\n",
      "3 Star\n",
      "3 Star\n",
      "3 Star\n",
      "3 Star\n",
      "3 Star\n",
      "4 Star at pull number 9\n",
      "3 Star\n",
      "3 Star\n",
      "3 Star\n",
      "3 Star\n",
      "3 Star\n",
      "3 Star\n",
      "3 Star\n",
      "3 Star\n",
      "4 Star at pull number 9\n",
      "3 Star\n",
      "3 Star\n",
      "3 Star\n",
      "4 Star at pull number 4\n",
      "4 Star at pull number 1\n",
      "3 Star\n",
      "3 Star\n",
      "3 Star\n",
      "3 Star\n",
      "3 Star\n",
      "4 Star at pull number 6\n",
      "3 Star\n",
      "3 Star\n",
      "3 Star\n",
      "3 Star\n",
      "3 Star\n",
      "5 Star at pull number 79\n"
     ]
    }
   ],
   "source": [
    "counter5 = 1\n",
    "counter4 = 1\n",
    "\n",
    "while pull(counter5, counter4) != '5 Star':\n",
    "    \n",
    "    p = pull(counter5, counter4)\n",
    "    \n",
    "    if p == \"5 Star\":\n",
    "        print(p + f' at pull number {counter5}')\n",
    "        counter5 = 1\n",
    "        counter4 += 1\n",
    "    elif p == \"4 Star\":\n",
    "        print(p + f' at pull number {counter4}')\n",
    "        counter5 += 1\n",
    "        counter4 = 1\n",
    "    else:\n",
    "        print(p)\n",
    "        counter5 += 1\n",
    "        counter4 += 1\n",
    "        \n",
    "print(f\"5 Star at pull number {counter5}\")"
   ]
  },
  {
   "cell_type": "code",
   "execution_count": 8,
   "id": "cf30ee85",
   "metadata": {},
   "outputs": [],
   "source": [
    "def gacha_result_multiple_pulls(n_pulls, print_pull = False):\n",
    "    \n",
    "    counter5 = 1\n",
    "    counter4 = 1\n",
    "    #define and set both counters to 1\n",
    "\n",
    "    result = {\"5 Star\": 0, \"4 Star\": 0, \"3 Star\": 0}\n",
    "\n",
    "    p = \"None\"\n",
    "\n",
    "    for i in range(n_pulls):\n",
    "        \n",
    "        p = pull(counter5, counter4)\n",
    "        #pull\n",
    "\n",
    "        if p == \"5 Star\":\n",
    "            counter5 = 1\n",
    "            counter4 += 1\n",
    "        elif p == \"4 Star\":\n",
    "            counter5 += 1\n",
    "            counter4 = 1\n",
    "        else:\n",
    "            counter5 += 1\n",
    "            counter4 += 1\n",
    "        #determine the result of the single pull\n",
    "        \n",
    "        if p[0] == \"5\":\n",
    "            result[\"5 Star\"] += 1\n",
    "        elif p[0] == \"4\":\n",
    "            result[\"4 Star\"] += 1\n",
    "        else:\n",
    "            result[\"3 Star\"] += 1\n",
    "        #add pull to result\n",
    "\n",
    "        if print_pull:\n",
    "            print(p)\n",
    "\n",
    "    return result"
   ]
  },
  {
   "cell_type": "code",
   "execution_count": 9,
   "id": "3933e491",
   "metadata": {},
   "outputs": [
    {
     "data": {
      "text/plain": [
       "{'5 Star': 16042, '4 Star': 130423, '3 Star': 853535}"
      ]
     },
     "execution_count": 9,
     "metadata": {},
     "output_type": "execute_result"
    }
   ],
   "source": [
    "gacha_result_multiple_pulls(1000000)"
   ]
  },
  {
   "cell_type": "code",
   "execution_count": 10,
   "id": "1b32cb5d",
   "metadata": {},
   "outputs": [],
   "source": [
    "def pull_what(single_pull_result, latest_result):\n",
    "    '''\n",
    "    single_pull_result: rarity result from pull() fn.\n",
    "    latest_result: dictionary containing latest 5/4/3 stars object obtained during puuls\n",
    "    return: result of this single pull and updated latest_results dictionary\n",
    "    '''\n",
    "    _5star_list = ['5 Star promo', '5 Star standard']\n",
    "    \n",
    "    _4star_promo = 2*['4 Star promo'] + ['4 Star wanted']\n",
    "\n",
    "    _4star_generic = 21*['4 Star random'] + ['4 Star wanted']\n",
    "    _4star_weapon = ['4 Star weapon']\n",
    "    \n",
    "    _4star_off = [_4star_generic, _4star_weapon]\n",
    "    \n",
    "    if single_pull_result[0] == '5':\n",
    "        \n",
    "        if latest_result['5 Star'] == '5 Star standard':\n",
    "            result = '5 Star promo'\n",
    "        else:\n",
    "            result = random.choice(_5star_list)\n",
    "        \n",
    "        latest_result['5 Star'] = result\n",
    "    \n",
    "    elif single_pull_result[0] == '4':\n",
    "        \n",
    "        if latest_result['4 Star'] == '4 Star random' or latest_result['4 Star'] == '4 Star weapon':\n",
    "            result = random.choice(_4star_promo)\n",
    "        else:\n",
    "            pool = random.choice([_4star_off, _4star_promo])\n",
    "            if pool == _4star_off:\n",
    "                weapon_or_char = random.choice(pool)\n",
    "                result = random.choice(weapon_or_char)\n",
    "            else:\n",
    "                result = random.choice(pool)\n",
    "        \n",
    "        latest_result['4 Star'] = result\n",
    "    \n",
    "    else:\n",
    "        \n",
    "        result = '3 Star weapon'\n",
    "        latest_result['3 Star'] = result\n",
    "        \n",
    "    return result, latest_result"
   ]
  },
  {
   "cell_type": "code",
   "execution_count": 11,
   "id": "265e71fa",
   "metadata": {},
   "outputs": [
    {
     "data": {
      "text/plain": [
       "('4 Star weapon', {'5 Star': None, '4 Star': '4 Star weapon', '3 Star': None})"
      ]
     },
     "execution_count": 11,
     "metadata": {},
     "output_type": "execute_result"
    }
   ],
   "source": [
    "latest = {'5 Star': None, '4 Star': None, '3 Star': None}\n",
    "pull_what('4 Star', latest)"
   ]
  },
  {
   "cell_type": "code",
   "execution_count": 12,
   "id": "53c02f53",
   "metadata": {},
   "outputs": [
    {
     "name": "stdout",
     "output_type": "stream",
     "text": [
      "{'4 Star promo': 333833, '4 Star wanted': 177170, '4 Star random': 238740, '4 Star weapon': 250257}\n"
     ]
    }
   ],
   "source": [
    "stat = {}\n",
    "for i in range(1000000):\n",
    "    latest = {'5 Star': None, '4 Star': None, '3 Star': None}\n",
    "\n",
    "    result = pull_what('4 Star', latest)[0]\n",
    "    \n",
    "    if result in stat:\n",
    "        stat[result] += 1\n",
    "    else:\n",
    "        stat[result] = 1\n",
    "        \n",
    "print(stat)"
   ]
  },
  {
   "cell_type": "code",
   "execution_count": 36,
   "id": "92baf098",
   "metadata": {},
   "outputs": [
    {
     "data": {
      "text/plain": [
       "('3 Star weapon', {'5 Star': None, '4 Star': None, '3 Star': '3 Star weapon'})"
      ]
     },
     "execution_count": 36,
     "metadata": {},
     "output_type": "execute_result"
    }
   ],
   "source": [
    "latest = {'5 Star': None, '4 Star': None, '3 Star': None}\n",
    "p = pull(77, 7)\n",
    "pull_what(p, latest)"
   ]
  },
  {
   "cell_type": "code",
   "execution_count": 14,
   "id": "408866d9",
   "metadata": {},
   "outputs": [],
   "source": [
    "def gacha(n_pulls):\n",
    "    \n",
    "    counter5 = 1\n",
    "    counter4 = 1\n",
    "    \n",
    "    result = {}\n",
    "    latest = {'5 Star': None, '4 Star': None, '3 Star': None}\n",
    "    \n",
    "    for i in range(n_pulls):\n",
    "        p = pull(counter5, counter4)\n",
    "\n",
    "        if p == \"5 Star\":\n",
    "            counter5 = 1\n",
    "            counter4 += 1\n",
    "        elif p == \"4 Star\":\n",
    "            counter5 += 1\n",
    "            counter4 = 1\n",
    "        else:\n",
    "            counter5 += 1\n",
    "            counter4 += 1\n",
    "        \n",
    "        pw = pull_what(p, latest)\n",
    "        latest = pw[1]\n",
    "        \n",
    "        if pw[0] in result:\n",
    "            result[pw[0]] += 1\n",
    "        else:\n",
    "            result[pw[0]] = 1\n",
    "            \n",
    "    return result"
   ]
  },
  {
   "cell_type": "code",
   "execution_count": 37,
   "id": "a22b51ab",
   "metadata": {},
   "outputs": [
    {
     "data": {
      "text/plain": [
       "{'3 Star weapon': 76,\n",
       " '4 Star wanted': 4,\n",
       " '4 Star random': 2,\n",
       " '4 Star promo': 7,\n",
       " '5 Star standard': 1}"
      ]
     },
     "execution_count": 37,
     "metadata": {},
     "output_type": "execute_result"
    }
   ],
   "source": [
    "gacha(90)"
   ]
  },
  {
   "cell_type": "code",
   "execution_count": 25,
   "id": "1f8c59d5",
   "metadata": {},
   "outputs": [],
   "source": [
    "def gacha_until(item, copies):\n",
    "    \n",
    "    count = 1\n",
    "    \n",
    "    counter5 = 1\n",
    "    counter4 = 1\n",
    "    \n",
    "    result = {}\n",
    "    latest = {'5 Star': None, '4 Star': None, '3 Star': None}\n",
    "    \n",
    "    while not item in result or result[item] < copies:\n",
    "        p = pull(counter5, counter4)\n",
    "\n",
    "        if p == \"5 Star\":\n",
    "            counter5 = 1\n",
    "            counter4 += 1\n",
    "        elif p == \"4 Star\":\n",
    "            counter5 += 1\n",
    "            counter4 = 1\n",
    "        else:\n",
    "            counter5 += 1\n",
    "            counter4 += 1\n",
    "        \n",
    "        pw = pull_what(p, latest)\n",
    "        latest = pw[1]\n",
    "        \n",
    "        if pw[0] in result:\n",
    "            result[pw[0]] += 1\n",
    "        else:\n",
    "            result[pw[0]] = 1\n",
    "        \n",
    "        count += 1\n",
    "    \n",
    "    return count\n",
    "        "
   ]
  },
  {
   "cell_type": "code",
   "execution_count": 30,
   "id": "24748fe3",
   "metadata": {},
   "outputs": [
    {
     "data": {
      "text/plain": [
       "533"
      ]
     },
     "execution_count": 30,
     "metadata": {},
     "output_type": "execute_result"
    }
   ],
   "source": [
    "gacha_until(\"5 Star promo\", 7)"
   ]
  },
  {
   "cell_type": "code",
   "execution_count": 33,
   "id": "130776d7",
   "metadata": {},
   "outputs": [],
   "source": [
    "def mean_pulls_until(item, copies, num_trials):\n",
    "    \n",
    "    s = 0\n",
    "    \n",
    "    for i in range(num_trials):\n",
    "        s += gacha_until(item, copies)\n",
    "    \n",
    "    return s/num_trials"
   ]
  },
  {
   "cell_type": "code",
   "execution_count": 34,
   "id": "6b130c55",
   "metadata": {},
   "outputs": [
    {
     "data": {
      "text/plain": [
       "234.90877"
      ]
     },
     "execution_count": 34,
     "metadata": {},
     "output_type": "execute_result"
    }
   ],
   "source": [
    "mean_pulls_until('4 Star wanted', 7, 100000)"
   ]
  },
  {
   "cell_type": "code",
   "execution_count": 35,
   "id": "738f3391",
   "metadata": {},
   "outputs": [
    {
     "data": {
      "text/plain": [
       "655.37326"
      ]
     },
     "execution_count": 35,
     "metadata": {},
     "output_type": "execute_result"
    }
   ],
   "source": [
    "mean_pulls_until('5 Star promo', 7, 100000)"
   ]
  },
  {
   "cell_type": "code",
   "execution_count": 47,
   "id": "1a10b9ab",
   "metadata": {},
   "outputs": [],
   "source": [
    "def mean_num_items_from_gacha(item, num_pulls, num_trials):\n",
    "    \n",
    "    s = 0\n",
    "    \n",
    "    for i in range(num_trials):\n",
    "        result = gacha(num_pulls)\n",
    "        if item in result:\n",
    "            s += result[item]\n",
    "    \n",
    "    return s/num_trials"
   ]
  },
  {
   "cell_type": "code",
   "execution_count": 48,
   "id": "f4b54413",
   "metadata": {},
   "outputs": [
    {
     "data": {
      "text/plain": [
       "2.1445"
      ]
     },
     "execution_count": 48,
     "metadata": {},
     "output_type": "execute_result"
    }
   ],
   "source": [
    "mean_num_items_from_gacha('5 Star promo', 235, 100000)"
   ]
  },
  {
   "cell_type": "code",
   "execution_count": null,
   "id": "d362fcb1",
   "metadata": {},
   "outputs": [],
   "source": []
  }
 ],
 "metadata": {
  "kernelspec": {
   "display_name": "Python 3 (ipykernel)",
   "language": "python",
   "name": "python3"
  },
  "language_info": {
   "codemirror_mode": {
    "name": "ipython",
    "version": 3
   },
   "file_extension": ".py",
   "mimetype": "text/x-python",
   "name": "python",
   "nbconvert_exporter": "python",
   "pygments_lexer": "ipython3",
   "version": "3.8.13"
  }
 },
 "nbformat": 4,
 "nbformat_minor": 5
}
